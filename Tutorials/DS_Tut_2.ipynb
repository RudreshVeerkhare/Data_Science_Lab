{
  "nbformat": 4,
  "nbformat_minor": 0,
  "metadata": {
    "colab": {
      "name": "DS-Tut-2.ipynb",
      "provenance": []
    },
    "kernelspec": {
      "name": "python3",
      "display_name": "Python 3"
    },
    "language_info": {
      "name": "python"
    }
  },
  "cells": [
    {
      "cell_type": "code",
      "source": [
        "# test classification dataset\n",
        "\n",
        "from sklearn.datasets import make_classification\n",
        "\n",
        "# define dataset\n",
        "\n",
        "X, y = make_classification(n_samples=1000, n_features=10, n_informative=10, n_redundant=0, random_state=1)\n",
        "\n",
        "# summarize the dataset\n",
        "\n",
        "print(X.shape, y.shape)"
      ],
      "metadata": {
        "colab": {
          "base_uri": "https://localhost:8080/"
        },
        "id": "OT_ntkx4PF_Y",
        "outputId": "a2d98e92-b6f0-45f1-af56-9e98e02d8c61"
      },
      "execution_count": null,
      "outputs": [
        {
          "output_type": "stream",
          "name": "stdout",
          "text": [
            "(1000, 10) (1000,)\n"
          ]
        }
      ]
    },
    {
      "cell_type": "code",
      "source": [
        "# evaluate a lda model on the dataset\n",
        "\n",
        "from numpy import mean\n",
        "\n",
        "from numpy import std\n",
        "\n",
        "from sklearn.datasets import make_classification\n",
        "\n",
        "from sklearn.model_selection import cross_val_score\n",
        "\n",
        "from sklearn.model_selection import RepeatedStratifiedKFold\n",
        "\n",
        "from sklearn.discriminant_analysis import LinearDiscriminantAnalysis\n",
        "\n",
        "# define dataset"
      ],
      "metadata": {
        "id": "XOVz7TJbPLHt"
      },
      "execution_count": null,
      "outputs": []
    },
    {
      "cell_type": "code",
      "source": [
        "from sklearn.model_selection import train_test_split\n",
        "\n",
        "X, y = make_classification(n_samples=1000, n_features=10, n_informative=10, n_redundant=0, random_state=1)\n",
        "X_train, X_test, y_train, y_test = train_test_split(X, y, test_size=0.2) # 20% Test split\n",
        "\n",
        "# define model\n",
        "\n",
        "model = LinearDiscriminantAnalysis()\n",
        "\n",
        "# define model evaluation method\n",
        "\n",
        "cv = RepeatedStratifiedKFold(n_splits=10, n_repeats=3, random_state=1)\n",
        "\n",
        "# evaluate model\n",
        "\n",
        "scores = cross_val_score(model, X, y, scoring='accuracy', cv=cv, n_jobs=-1)\n",
        "\n",
        "# summarize result\n",
        "\n",
        "print('Mean Accuracy: %.3f (%.3f)' % (mean(scores), std(scores)))"
      ],
      "metadata": {
        "colab": {
          "base_uri": "https://localhost:8080/"
        },
        "id": "jW_VWH-FPMOE",
        "outputId": "289eeb67-53b7-4428-ca7a-732a01c0d7cd"
      },
      "execution_count": null,
      "outputs": [
        {
          "output_type": "stream",
          "name": "stdout",
          "text": [
            "Mean Accuracy: 0.893 (0.033)\n"
          ]
        }
      ]
    },
    {
      "cell_type": "code",
      "source": [
        "from sklearn.model_selection import GridSearchCV\n",
        "lda_param_grid = {\"solver\" : [\"svd\"],\"tol\" : [0.0001,0.0002,0.0003]}\n",
        "grid_search = GridSearchCV(estimator=model, param_grid=lda_param_grid, n_jobs=-1, cv=cv, scoring='accuracy',error_score=0)\n",
        "grid_result = grid_search.fit(X_train, y_train)"
      ],
      "metadata": {
        "id": "kkz79EOgQ6IM"
      },
      "execution_count": null,
      "outputs": []
    },
    {
      "cell_type": "code",
      "source": [
        "print(\"Best: %f using %s\\n\" % (grid_result.best_score_, grid_result.best_params_)) # Showing the best result and saving the other results and printing them\n",
        "means = grid_result.cv_results_['mean_test_score']\n",
        "stds = grid_result.cv_results_['std_test_score']\n",
        "params = grid_result.cv_results_['params']"
      ],
      "metadata": {
        "colab": {
          "base_uri": "https://localhost:8080/"
        },
        "id": "7KemOCurSWzO",
        "outputId": "95923f35-6649-4e7e-b9cc-d390b7bcb64a"
      },
      "execution_count": null,
      "outputs": [
        {
          "output_type": "stream",
          "name": "stdout",
          "text": [
            "Best: 0.899167 using {'solver': 'svd', 'tol': 0.0001}\n",
            "\n"
          ]
        }
      ]
    },
    {
      "cell_type": "code",
      "source": [
        "final_model = grid_result.best_estimator_\n",
        "predictions = final_model.predict(X_test)"
      ],
      "metadata": {
        "id": "NO5qxwpCTYXT"
      },
      "execution_count": null,
      "outputs": []
    },
    {
      "cell_type": "code",
      "source": [
        "from sklearn import metrics\n",
        "from sklearn.metrics import classification_report,roc_curve,confusion_matrix"
      ],
      "metadata": {
        "id": "qOpZwZ0sUALp"
      },
      "execution_count": null,
      "outputs": []
    },
    {
      "cell_type": "code",
      "source": [
        "import pandas as pd\n",
        "c = pd.DataFrame({\"Actual\": y_test, \"Predictions\": predictions})\n",
        "print(c)"
      ],
      "metadata": {
        "id": "jFf2uPPWUXXf",
        "outputId": "3beb2f40-f61d-40bb-b90c-20dbb52e48e1",
        "colab": {
          "base_uri": "https://localhost:8080/"
        }
      },
      "execution_count": null,
      "outputs": [
        {
          "output_type": "stream",
          "name": "stdout",
          "text": [
            "     Actual  Predictions\n",
            "0         0            0\n",
            "1         1            1\n",
            "2         1            1\n",
            "3         1            1\n",
            "4         1            1\n",
            "..      ...          ...\n",
            "195       0            1\n",
            "196       0            0\n",
            "197       1            1\n",
            "198       0            0\n",
            "199       0            0\n",
            "\n",
            "[200 rows x 2 columns]\n"
          ]
        }
      ]
    },
    {
      "cell_type": "code",
      "source": [
        "\n",
        "print('Classification Report\\n',classification_report(y_test, predictions))\n",
        "print('Confusion Matrix\\n',confusion_matrix(y_test, predictions))\n",
        "print(\"Accuracy:\",metrics.accuracy_score(y_test, predictions))\n",
        "print(\"Precision Score:\",metrics.precision_score(y_test, predictions, \n",
        "                                           pos_label='positive',\n",
        "                                           average='micro'))\n",
        "print(\"Recall Score:\",metrics.recall_score(y_test, predictions, \n",
        "                                           pos_label='positive',\n",
        "                                           average='micro'))"
      ],
      "metadata": {
        "colab": {
          "base_uri": "https://localhost:8080/"
        },
        "id": "S-o-kHFoT8Vn",
        "outputId": "b1f29e2c-98bc-41e7-f988-8740708513b6"
      },
      "execution_count": null,
      "outputs": [
        {
          "output_type": "stream",
          "name": "stdout",
          "text": [
            "Classification Report\n",
            "               precision    recall  f1-score   support\n",
            "\n",
            "           0       0.95      0.80      0.87        93\n",
            "           1       0.84      0.96      0.90       107\n",
            "\n",
            "    accuracy                           0.89       200\n",
            "   macro avg       0.90      0.88      0.88       200\n",
            "weighted avg       0.89      0.89      0.88       200\n",
            "\n",
            "Confusion Matrix\n",
            " [[ 74  19]\n",
            " [  4 103]]\n",
            "Accuracy: 0.885\n",
            "Precision Score: 0.885\n",
            "Recall Score: 0.885\n"
          ]
        },
        {
          "output_type": "stream",
          "name": "stderr",
          "text": [
            "/usr/local/lib/python3.7/dist-packages/sklearn/metrics/_classification.py:1375: UserWarning: Note that pos_label (set to 'positive') is ignored when average != 'binary' (got 'micro'). You may use labels=[pos_label] to specify a single positive class.\n",
            "  UserWarning,\n",
            "/usr/local/lib/python3.7/dist-packages/sklearn/metrics/_classification.py:1375: UserWarning: Note that pos_label (set to 'positive') is ignored when average != 'binary' (got 'micro'). You may use labels=[pos_label] to specify a single positive class.\n",
            "  UserWarning,\n"
          ]
        }
      ]
    }
  ]
}